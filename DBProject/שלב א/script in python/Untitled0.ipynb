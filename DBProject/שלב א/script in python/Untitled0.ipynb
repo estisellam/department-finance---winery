{
  "nbformat": 4,
  "nbformat_minor": 0,
  "metadata": {
    "colab": {
      "provenance": []
    },
    "kernelspec": {
      "name": "python3",
      "display_name": "Python 3"
    },
    "language_info": {
      "name": "python"
    }
  },
  "cells": [
    {
      "cell_type": "code",
      "execution_count": null,
      "metadata": {
        "colab": {
          "base_uri": "https://localhost:8080/",
          "height": 34
        },
        "id": "y4Z0vrfvlNwN",
        "outputId": "257255c3-4394-441d-d511-f11267271dea"
      },
      "outputs": [
        {
          "output_type": "display_data",
          "data": {
            "text/plain": [
              "<IPython.core.display.Javascript object>"
            ],
            "application/javascript": [
              "\n",
              "    async function download(id, filename, size) {\n",
              "      if (!google.colab.kernel.accessAllowed) {\n",
              "        return;\n",
              "      }\n",
              "      const div = document.createElement('div');\n",
              "      const label = document.createElement('label');\n",
              "      label.textContent = `Downloading \"${filename}\": `;\n",
              "      div.appendChild(label);\n",
              "      const progress = document.createElement('progress');\n",
              "      progress.max = size;\n",
              "      div.appendChild(progress);\n",
              "      document.body.appendChild(div);\n",
              "\n",
              "      const buffers = [];\n",
              "      let downloaded = 0;\n",
              "\n",
              "      const channel = await google.colab.kernel.comms.open(id);\n",
              "      // Send a message to notify the kernel that we're ready.\n",
              "      channel.send({})\n",
              "\n",
              "      for await (const message of channel.messages) {\n",
              "        // Send a message to notify the kernel that we're ready.\n",
              "        channel.send({})\n",
              "        if (message.buffers) {\n",
              "          for (const buffer of message.buffers) {\n",
              "            buffers.push(buffer);\n",
              "            downloaded += buffer.byteLength;\n",
              "            progress.value = downloaded;\n",
              "          }\n",
              "        }\n",
              "      }\n",
              "      const blob = new Blob(buffers, {type: 'application/binary'});\n",
              "      const a = document.createElement('a');\n",
              "      a.href = window.URL.createObjectURL(blob);\n",
              "      a.download = filename;\n",
              "      div.appendChild(a);\n",
              "      a.click();\n",
              "      div.remove();\n",
              "    }\n",
              "  "
            ]
          },
          "metadata": {}
        },
        {
          "output_type": "display_data",
          "data": {
            "text/plain": [
              "<IPython.core.display.Javascript object>"
            ],
            "application/javascript": [
              "download(\"download_163f58ba-2a6f-4c06-b51a-64852475b220\", \"employee.csv\", 13771)"
            ]
          },
          "metadata": {}
        },
        {
          "output_type": "display_data",
          "data": {
            "text/plain": [
              "<IPython.core.display.Javascript object>"
            ],
            "application/javascript": [
              "\n",
              "    async function download(id, filename, size) {\n",
              "      if (!google.colab.kernel.accessAllowed) {\n",
              "        return;\n",
              "      }\n",
              "      const div = document.createElement('div');\n",
              "      const label = document.createElement('label');\n",
              "      label.textContent = `Downloading \"${filename}\": `;\n",
              "      div.appendChild(label);\n",
              "      const progress = document.createElement('progress');\n",
              "      progress.max = size;\n",
              "      div.appendChild(progress);\n",
              "      document.body.appendChild(div);\n",
              "\n",
              "      const buffers = [];\n",
              "      let downloaded = 0;\n",
              "\n",
              "      const channel = await google.colab.kernel.comms.open(id);\n",
              "      // Send a message to notify the kernel that we're ready.\n",
              "      channel.send({})\n",
              "\n",
              "      for await (const message of channel.messages) {\n",
              "        // Send a message to notify the kernel that we're ready.\n",
              "        channel.send({})\n",
              "        if (message.buffers) {\n",
              "          for (const buffer of message.buffers) {\n",
              "            buffers.push(buffer);\n",
              "            downloaded += buffer.byteLength;\n",
              "            progress.value = downloaded;\n",
              "          }\n",
              "        }\n",
              "      }\n",
              "      const blob = new Blob(buffers, {type: 'application/binary'});\n",
              "      const a = document.createElement('a');\n",
              "      a.href = window.URL.createObjectURL(blob);\n",
              "      a.download = filename;\n",
              "      div.appendChild(a);\n",
              "      a.click();\n",
              "      div.remove();\n",
              "    }\n",
              "  "
            ]
          },
          "metadata": {}
        },
        {
          "output_type": "display_data",
          "data": {
            "text/plain": [
              "<IPython.core.display.Javascript object>"
            ],
            "application/javascript": [
              "download(\"download_107b1ca7-b2f4-46c2-8603-ab46556691ea\", \"salary.csv\", 7237)"
            ]
          },
          "metadata": {}
        },
        {
          "output_type": "display_data",
          "data": {
            "text/plain": [
              "<IPython.core.display.Javascript object>"
            ],
            "application/javascript": [
              "\n",
              "    async function download(id, filename, size) {\n",
              "      if (!google.colab.kernel.accessAllowed) {\n",
              "        return;\n",
              "      }\n",
              "      const div = document.createElement('div');\n",
              "      const label = document.createElement('label');\n",
              "      label.textContent = `Downloading \"${filename}\": `;\n",
              "      div.appendChild(label);\n",
              "      const progress = document.createElement('progress');\n",
              "      progress.max = size;\n",
              "      div.appendChild(progress);\n",
              "      document.body.appendChild(div);\n",
              "\n",
              "      const buffers = [];\n",
              "      let downloaded = 0;\n",
              "\n",
              "      const channel = await google.colab.kernel.comms.open(id);\n",
              "      // Send a message to notify the kernel that we're ready.\n",
              "      channel.send({})\n",
              "\n",
              "      for await (const message of channel.messages) {\n",
              "        // Send a message to notify the kernel that we're ready.\n",
              "        channel.send({})\n",
              "        if (message.buffers) {\n",
              "          for (const buffer of message.buffers) {\n",
              "            buffers.push(buffer);\n",
              "            downloaded += buffer.byteLength;\n",
              "            progress.value = downloaded;\n",
              "          }\n",
              "        }\n",
              "      }\n",
              "      const blob = new Blob(buffers, {type: 'application/binary'});\n",
              "      const a = document.createElement('a');\n",
              "      a.href = window.URL.createObjectURL(blob);\n",
              "      a.download = filename;\n",
              "      div.appendChild(a);\n",
              "      a.click();\n",
              "      div.remove();\n",
              "    }\n",
              "  "
            ]
          },
          "metadata": {}
        },
        {
          "output_type": "display_data",
          "data": {
            "text/plain": [
              "<IPython.core.display.Javascript object>"
            ],
            "application/javascript": [
              "download(\"download_c9d3b00c-1f3f-4f0a-9042-af0b98c3af95\", \"budgets-budgets.csv\", 2000)"
            ]
          },
          "metadata": {}
        },
        {
          "output_type": "display_data",
          "data": {
            "text/plain": [
              "<IPython.core.display.Javascript object>"
            ],
            "application/javascript": [
              "\n",
              "    async function download(id, filename, size) {\n",
              "      if (!google.colab.kernel.accessAllowed) {\n",
              "        return;\n",
              "      }\n",
              "      const div = document.createElement('div');\n",
              "      const label = document.createElement('label');\n",
              "      label.textContent = `Downloading \"${filename}\": `;\n",
              "      div.appendChild(label);\n",
              "      const progress = document.createElement('progress');\n",
              "      progress.max = size;\n",
              "      div.appendChild(progress);\n",
              "      document.body.appendChild(div);\n",
              "\n",
              "      const buffers = [];\n",
              "      let downloaded = 0;\n",
              "\n",
              "      const channel = await google.colab.kernel.comms.open(id);\n",
              "      // Send a message to notify the kernel that we're ready.\n",
              "      channel.send({})\n",
              "\n",
              "      for await (const message of channel.messages) {\n",
              "        // Send a message to notify the kernel that we're ready.\n",
              "        channel.send({})\n",
              "        if (message.buffers) {\n",
              "          for (const buffer of message.buffers) {\n",
              "            buffers.push(buffer);\n",
              "            downloaded += buffer.byteLength;\n",
              "            progress.value = downloaded;\n",
              "          }\n",
              "        }\n",
              "      }\n",
              "      const blob = new Blob(buffers, {type: 'application/binary'});\n",
              "      const a = document.createElement('a');\n",
              "      a.href = window.URL.createObjectURL(blob);\n",
              "      a.download = filename;\n",
              "      div.appendChild(a);\n",
              "      a.click();\n",
              "      div.remove();\n",
              "    }\n",
              "  "
            ]
          },
          "metadata": {}
        },
        {
          "output_type": "display_data",
          "data": {
            "text/plain": [
              "<IPython.core.display.Javascript object>"
            ],
            "application/javascript": [
              "download(\"download_275ddba0-26c6-4f5d-a940-649552986d48\", \"payment.csv\", 13334)"
            ]
          },
          "metadata": {}
        },
        {
          "output_type": "display_data",
          "data": {
            "text/plain": [
              "<IPython.core.display.Javascript object>"
            ],
            "application/javascript": [
              "\n",
              "    async function download(id, filename, size) {\n",
              "      if (!google.colab.kernel.accessAllowed) {\n",
              "        return;\n",
              "      }\n",
              "      const div = document.createElement('div');\n",
              "      const label = document.createElement('label');\n",
              "      label.textContent = `Downloading \"${filename}\": `;\n",
              "      div.appendChild(label);\n",
              "      const progress = document.createElement('progress');\n",
              "      progress.max = size;\n",
              "      div.appendChild(progress);\n",
              "      document.body.appendChild(div);\n",
              "\n",
              "      const buffers = [];\n",
              "      let downloaded = 0;\n",
              "\n",
              "      const channel = await google.colab.kernel.comms.open(id);\n",
              "      // Send a message to notify the kernel that we're ready.\n",
              "      channel.send({})\n",
              "\n",
              "      for await (const message of channel.messages) {\n",
              "        // Send a message to notify the kernel that we're ready.\n",
              "        channel.send({})\n",
              "        if (message.buffers) {\n",
              "          for (const buffer of message.buffers) {\n",
              "            buffers.push(buffer);\n",
              "            downloaded += buffer.byteLength;\n",
              "            progress.value = downloaded;\n",
              "          }\n",
              "        }\n",
              "      }\n",
              "      const blob = new Blob(buffers, {type: 'application/binary'});\n",
              "      const a = document.createElement('a');\n",
              "      a.href = window.URL.createObjectURL(blob);\n",
              "      a.download = filename;\n",
              "      div.appendChild(a);\n",
              "      a.click();\n",
              "      div.remove();\n",
              "    }\n",
              "  "
            ]
          },
          "metadata": {}
        },
        {
          "output_type": "display_data",
          "data": {
            "text/plain": [
              "<IPython.core.display.Javascript object>"
            ],
            "application/javascript": [
              "download(\"download_5e644a7a-2f08-40fb-830f-d149448ce8e0\", \"Purchase_from_the_winery.csv\", 4212)"
            ]
          },
          "metadata": {}
        },
        {
          "output_type": "display_data",
          "data": {
            "text/plain": [
              "<IPython.core.display.Javascript object>"
            ],
            "application/javascript": [
              "\n",
              "    async function download(id, filename, size) {\n",
              "      if (!google.colab.kernel.accessAllowed) {\n",
              "        return;\n",
              "      }\n",
              "      const div = document.createElement('div');\n",
              "      const label = document.createElement('label');\n",
              "      label.textContent = `Downloading \"${filename}\": `;\n",
              "      div.appendChild(label);\n",
              "      const progress = document.createElement('progress');\n",
              "      progress.max = size;\n",
              "      div.appendChild(progress);\n",
              "      document.body.appendChild(div);\n",
              "\n",
              "      const buffers = [];\n",
              "      let downloaded = 0;\n",
              "\n",
              "      const channel = await google.colab.kernel.comms.open(id);\n",
              "      // Send a message to notify the kernel that we're ready.\n",
              "      channel.send({})\n",
              "\n",
              "      for await (const message of channel.messages) {\n",
              "        // Send a message to notify the kernel that we're ready.\n",
              "        channel.send({})\n",
              "        if (message.buffers) {\n",
              "          for (const buffer of message.buffers) {\n",
              "            buffers.push(buffer);\n",
              "            downloaded += buffer.byteLength;\n",
              "            progress.value = downloaded;\n",
              "          }\n",
              "        }\n",
              "      }\n",
              "      const blob = new Blob(buffers, {type: 'application/binary'});\n",
              "      const a = document.createElement('a');\n",
              "      a.href = window.URL.createObjectURL(blob);\n",
              "      a.download = filename;\n",
              "      div.appendChild(a);\n",
              "      a.click();\n",
              "      div.remove();\n",
              "    }\n",
              "  "
            ]
          },
          "metadata": {}
        },
        {
          "output_type": "display_data",
          "data": {
            "text/plain": [
              "<IPython.core.display.Javascript object>"
            ],
            "application/javascript": [
              "download(\"download_f1268545-6871-48d0-8f86-89ebc4181fdd\", \"in_Purchases_from.csv\", 3200)"
            ]
          },
          "metadata": {}
        },
        {
          "output_type": "display_data",
          "data": {
            "text/plain": [
              "<IPython.core.display.Javascript object>"
            ],
            "application/javascript": [
              "\n",
              "    async function download(id, filename, size) {\n",
              "      if (!google.colab.kernel.accessAllowed) {\n",
              "        return;\n",
              "      }\n",
              "      const div = document.createElement('div');\n",
              "      const label = document.createElement('label');\n",
              "      label.textContent = `Downloading \"${filename}\": `;\n",
              "      div.appendChild(label);\n",
              "      const progress = document.createElement('progress');\n",
              "      progress.max = size;\n",
              "      div.appendChild(progress);\n",
              "      document.body.appendChild(div);\n",
              "\n",
              "      const buffers = [];\n",
              "      let downloaded = 0;\n",
              "\n",
              "      const channel = await google.colab.kernel.comms.open(id);\n",
              "      // Send a message to notify the kernel that we're ready.\n",
              "      channel.send({})\n",
              "\n",
              "      for await (const message of channel.messages) {\n",
              "        // Send a message to notify the kernel that we're ready.\n",
              "        channel.send({})\n",
              "        if (message.buffers) {\n",
              "          for (const buffer of message.buffers) {\n",
              "            buffers.push(buffer);\n",
              "            downloaded += buffer.byteLength;\n",
              "            progress.value = downloaded;\n",
              "          }\n",
              "        }\n",
              "      }\n",
              "      const blob = new Blob(buffers, {type: 'application/binary'});\n",
              "      const a = document.createElement('a');\n",
              "      a.href = window.URL.createObjectURL(blob);\n",
              "      a.download = filename;\n",
              "      div.appendChild(a);\n",
              "      a.click();\n",
              "      div.remove();\n",
              "    }\n",
              "  "
            ]
          },
          "metadata": {}
        },
        {
          "output_type": "display_data",
          "data": {
            "text/plain": [
              "<IPython.core.display.Javascript object>"
            ],
            "application/javascript": [
              "download(\"download_eef5bc34-daaf-4167-a950-df122076812f\", \"Winery_purchases.csv\", 10124)"
            ]
          },
          "metadata": {}
        },
        {
          "output_type": "display_data",
          "data": {
            "text/plain": [
              "<IPython.core.display.Javascript object>"
            ],
            "application/javascript": [
              "\n",
              "    async function download(id, filename, size) {\n",
              "      if (!google.colab.kernel.accessAllowed) {\n",
              "        return;\n",
              "      }\n",
              "      const div = document.createElement('div');\n",
              "      const label = document.createElement('label');\n",
              "      label.textContent = `Downloading \"${filename}\": `;\n",
              "      div.appendChild(label);\n",
              "      const progress = document.createElement('progress');\n",
              "      progress.max = size;\n",
              "      div.appendChild(progress);\n",
              "      document.body.appendChild(div);\n",
              "\n",
              "      const buffers = [];\n",
              "      let downloaded = 0;\n",
              "\n",
              "      const channel = await google.colab.kernel.comms.open(id);\n",
              "      // Send a message to notify the kernel that we're ready.\n",
              "      channel.send({})\n",
              "\n",
              "      for await (const message of channel.messages) {\n",
              "        // Send a message to notify the kernel that we're ready.\n",
              "        channel.send({})\n",
              "        if (message.buffers) {\n",
              "          for (const buffer of message.buffers) {\n",
              "            buffers.push(buffer);\n",
              "            downloaded += buffer.byteLength;\n",
              "            progress.value = downloaded;\n",
              "          }\n",
              "        }\n",
              "      }\n",
              "      const blob = new Blob(buffers, {type: 'application/binary'});\n",
              "      const a = document.createElement('a');\n",
              "      a.href = window.URL.createObjectURL(blob);\n",
              "      a.download = filename;\n",
              "      div.appendChild(a);\n",
              "      a.click();\n",
              "      div.remove();\n",
              "    }\n",
              "  "
            ]
          },
          "metadata": {}
        },
        {
          "output_type": "display_data",
          "data": {
            "text/plain": [
              "<IPython.core.display.Javascript object>"
            ],
            "application/javascript": [
              "download(\"download_95aae68f-4d57-4ada-aaaf-07726fbf9288\", \"out_Purchase_for_the_winery.csv\", 3200)"
            ]
          },
          "metadata": {}
        },
        {
          "output_type": "display_data",
          "data": {
            "text/plain": [
              "<IPython.core.display.Javascript object>"
            ],
            "application/javascript": [
              "\n",
              "    async function download(id, filename, size) {\n",
              "      if (!google.colab.kernel.accessAllowed) {\n",
              "        return;\n",
              "      }\n",
              "      const div = document.createElement('div');\n",
              "      const label = document.createElement('label');\n",
              "      label.textContent = `Downloading \"${filename}\": `;\n",
              "      div.appendChild(label);\n",
              "      const progress = document.createElement('progress');\n",
              "      progress.max = size;\n",
              "      div.appendChild(progress);\n",
              "      document.body.appendChild(div);\n",
              "\n",
              "      const buffers = [];\n",
              "      let downloaded = 0;\n",
              "\n",
              "      const channel = await google.colab.kernel.comms.open(id);\n",
              "      // Send a message to notify the kernel that we're ready.\n",
              "      channel.send({})\n",
              "\n",
              "      for await (const message of channel.messages) {\n",
              "        // Send a message to notify the kernel that we're ready.\n",
              "        channel.send({})\n",
              "        if (message.buffers) {\n",
              "          for (const buffer of message.buffers) {\n",
              "            buffers.push(buffer);\n",
              "            downloaded += buffer.byteLength;\n",
              "            progress.value = downloaded;\n",
              "          }\n",
              "        }\n",
              "      }\n",
              "      const blob = new Blob(buffers, {type: 'application/binary'});\n",
              "      const a = document.createElement('a');\n",
              "      a.href = window.URL.createObjectURL(blob);\n",
              "      a.download = filename;\n",
              "      div.appendChild(a);\n",
              "      a.click();\n",
              "      div.remove();\n",
              "    }\n",
              "  "
            ]
          },
          "metadata": {}
        },
        {
          "output_type": "display_data",
          "data": {
            "text/plain": [
              "<IPython.core.display.Javascript object>"
            ],
            "application/javascript": [
              "download(\"download_49bf92ba-8ed2-4eb8-aa7c-95bd8776b116\", \"out_salary.csv\", 3091)"
            ]
          },
          "metadata": {}
        },
        {
          "output_type": "stream",
          "name": "stdout",
          "text": [
            "✔️ All CSV files were created and are ready to download.\n"
          ]
        }
      ],
      "source": [
        "import pandas as pd\n",
        "import random\n",
        "from datetime import datetime, timedelta\n",
        "\n",
        "# פונקציה ליצירת תאריך אקראי בטווח נתון\n",
        "def random_date(start_date, end_date):\n",
        "    delta_days = (end_date - start_date).days\n",
        "    random_days = random.randint(0, delta_days)\n",
        "    return start_date + timedelta(days=random_days)\n",
        "\n",
        "# מספר רשומות\n",
        "NUM_EMPLOYEES = 400\n",
        "NUM_PAYMENTS = 400\n",
        "NUM_SALARIES = 400\n",
        "NUM_PURCHASES_FROM = 400\n",
        "NUM_PURCHASES_FOR = 400\n",
        "\n",
        "# רשימות שמות לדוגמה\n",
        "first_names = ['John', 'Jane', 'Alex', 'Chris', 'Mary', 'Jessica', 'Michael', 'David', 'Sarah', 'Daniel']\n",
        "last_names = ['Smith', 'Johnson', 'Williams', 'Brown', 'Jones', 'Garcia', 'Miller', 'Davis', 'Rodriguez', 'Martinez']\n",
        "\n",
        "# פונקציה ליצירת שם מלא\n",
        "def generate_full_name():\n",
        "    first_name = random.choice(first_names)\n",
        "    last_name = random.choice(last_names)\n",
        "    return f'{first_name} {last_name}'\n",
        "\n",
        "# יצירת טבלת employee\n",
        "employee_data = []\n",
        "employee_ids = list(range(100, 100 + NUM_EMPLOYEES))\n",
        "for e_id in employee_ids:\n",
        "    employee_data.append({\n",
        "        'e_id': e_id,\n",
        "        'name': generate_full_name(),\n",
        "        'job_start_date': random_date(datetime(2010, 1, 1), datetime(2020, 1, 1)),\n",
        "        'salary': random.randint(7000, 25000)\n",
        "    })\n",
        "df_employee = pd.DataFrame(employee_data)\n",
        "\n",
        "# יצירת טבלת salary\n",
        "salary_data = []\n",
        "for payslip_number in range(1, NUM_SALARIES + 1):\n",
        "    e_id = random.choice(employee_ids)\n",
        "    הורדות = random.randint(500, 2000)\n",
        "    neto_salary = next(emp['salary'] for emp in employee_data if emp['e_id'] == e_id) - הורדות\n",
        "    salary_data.append({\n",
        "        'neto_salary': neto_salary,\n",
        "        'payslip_number': payslip_number,\n",
        "        'הורדות': הורדות,\n",
        "        'e_id': e_id\n",
        "    })\n",
        "df_salary = pd.DataFrame(salary_data)\n",
        "\n",
        "# יצירת טבלת budgets-budgets (שימוש ב־5 שנים)\n",
        "budget_years = list(range(2020, 2025))\n",
        "df_budgets = pd.DataFrame({'year': budget_years * 80})  # 5 * 80 = 400 רשומות\n",
        "\n",
        "# יצירת טבלת payment\n",
        "payment_data = []\n",
        "payment_ids = list(range(200, 200 + NUM_PAYMENTS))\n",
        "for p_id in payment_ids:\n",
        "    year = random.choice(budget_years)\n",
        "    e_id = random.choice(employee_ids)\n",
        "    p_date = random_date(datetime(year, 1, 1), datetime(year, 12, 31))\n",
        "    in_or_out = random.choice(['in', 'out'])\n",
        "    sum_ = random.randint(1000, 50000)\n",
        "    payment_data.append({\n",
        "        'p_id': p_id,\n",
        "        'p_date': p_date,\n",
        "        'in_or_out': in_or_out,\n",
        "        'sum': sum_,\n",
        "        'year': year,\n",
        "        'e_id': e_id\n",
        "    })\n",
        "df_payment = pd.DataFrame(payment_data)\n",
        "\n",
        "# יצירת טבלת Purchase_from_the_winery\n",
        "consumer_ids = list(range(300, 300 + NUM_PURCHASES_FROM))\n",
        "purchase_from_data = []\n",
        "for id_Consumer in consumer_ids:\n",
        "    Quantity_of_wine = random.randint(1, 100)\n",
        "    PricePerUnit = random.randint(30, 200)\n",
        "    purchase_from_data.append({\n",
        "        'id_Consumer': id_Consumer,\n",
        "        'Quantity_of_wine': Quantity_of_wine,\n",
        "        'PricePerUnit': PricePerUnit\n",
        "    })\n",
        "df_purchase_from = pd.DataFrame(purchase_from_data)\n",
        "\n",
        "# טבלת in_Purchases_from\n",
        "in_purchases_data = []\n",
        "in_payments = [p for p in payment_data if p['in_or_out'] == 'in']\n",
        "for i in range(NUM_PURCHASES_FROM):\n",
        "    in_purchases_data.append({\n",
        "        'p_id': in_payments[i % len(in_payments)]['p_id'],\n",
        "        'id_Consumer': consumer_ids[i]\n",
        "    })\n",
        "df_in_purchases = pd.DataFrame(in_purchases_data)\n",
        "\n",
        "# יצירת טבלת Winery_purchases\n",
        "purchase_ids = list(range(400, 400 + NUM_PURCHASES_FOR))\n",
        "purchase_for_data = []\n",
        "for id_Purchase in purchase_ids:\n",
        "    purchase_for_data.append({\n",
        "        'id_Purchase': id_Purchase,\n",
        "        'purchase_need': random.choice(['Bottles', 'Labels', 'Barrels', 'Boxes', 'Machinery']),\n",
        "        'who_purchased': generate_full_name()\n",
        "    })\n",
        "df_win_purchases = pd.DataFrame(purchase_for_data)\n",
        "\n",
        "# טבלת out_Purchase_for_the_winery\n",
        "out_purchases_data = []\n",
        "out_payments = [p for p in payment_data if p['in_or_out'] == 'out']\n",
        "for i in range(NUM_PURCHASES_FOR):\n",
        "    out_purchases_data.append({\n",
        "        'p_id': out_payments[i % len(out_payments)]['p_id'],\n",
        "        'id_Purchase': purchase_ids[i]\n",
        "    })\n",
        "df_out_purchases = pd.DataFrame(out_purchases_data)\n",
        "\n",
        "# יצירת טבלת out_salary\n",
        "out_salary_data = []\n",
        "for p_id in range(200, 200 + NUM_PAYMENTS):\n",
        "    payslip_number = random.choice(range(1, NUM_SALARIES + 1))\n",
        "    out_salary_data.append({\n",
        "        'p_id': p_id,\n",
        "        'payslip_number': payslip_number\n",
        "    })\n",
        "df_out_salary = pd.DataFrame(out_salary_data)\n",
        "\n",
        "# שמירת הקבצים ללא כותרות עמודות\n",
        "df_employee.to_csv('/content/employee.csv', index=False, header=False)\n",
        "df_salary.to_csv('/content/salary.csv', index=False, header=False)\n",
        "df_budgets.to_csv('/content/budgets-budgets.csv', index=False, header=False)\n",
        "df_payment.to_csv('/content/payment.csv', index=False, header=False)\n",
        "df_purchase_from.to_csv('/content/Purchase_from_the_winery.csv', index=False, header=False)\n",
        "df_in_purchases.to_csv('/content/in_Purchases_from.csv', index=False, header=False)\n",
        "df_win_purchases.to_csv('/content/Winery_purchases.csv', index=False, header=False)\n",
        "df_out_purchases.to_csv('/content/out_Purchase_for_the_winery.csv', index=False, header=False)\n",
        "df_out_salary.to_csv('/content/out_salary.csv', index=False, header=False)\n",
        "\n",
        "from google.colab import files\n",
        "files.download('/content/employee.csv')\n",
        "files.download('/content/salary.csv')\n",
        "files.download('/content/budgets-budgets.csv')\n",
        "files.download('/content/payment.csv')\n",
        "files.download('/content/Purchase_from_the_winery.csv')\n",
        "files.download('/content/in_Purchases_from.csv')\n",
        "files.download('/content/Winery_purchases.csv')\n",
        "files.download('/content/out_Purchase_for_the_winery.csv')\n",
        "files.download('/content/out_salary.csv')\n",
        "\n",
        "print(\"✔️ All CSV files were created and are ready to download.\")\n"
      ]
    },
    {
      "cell_type": "code",
      "source": [
        "from google.colab import drive\n",
        "drive.mount('/content/drive')"
      ],
      "metadata": {
        "id": "BJc01aC9l5Db"
      },
      "execution_count": null,
      "outputs": []
    }
  ]
}